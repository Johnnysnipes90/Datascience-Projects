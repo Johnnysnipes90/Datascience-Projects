{
 "cells": [
  {
   "cell_type": "markdown",
   "metadata": {},
   "source": [
    "# Assessment - Machine Learning, Data Coordinator with eHealth Africa\n",
    "\n",
    "© 2024\n",
    "\n",
    "---\n",
    "\n",
    "## Section B\n",
    "\n",
    "eHealth Africa has carried out investigation on various factors that can cause heart disease. The data on patients with the heart disease are collected in the southern and northern part of Nigeria and the description of the data is shown in Table 1.\n",
    "\n",
    "### Table 1: Heart Disease Data Dictionary\n",
    "\n",
    "| Variable Name | Description                               | Role   | Type     | Units     |\n",
    "|---------------|-------------------------------------------|--------|----------|-----------|\n",
    "| `age`           | age of the patient                        | Feature| Integer  | years     |\n",
    "| `sex`           | gender of the patient                     | Feature| Categorical | -      |\n",
    "| `cp`            | Chest pain type                           | Feature| Categorical | -      |\n",
    "| `trestbps`      | resting blood pressure (on admission to the hospital) | Feature | Integer | mm/Hg |\n",
    "| `chol`          | serum cholesterol                         | Feature| Integer  | mg/dl    |\n",
    "| `fbs`           | fasting blood sugar > 120 mg/dl           | Feature| Categorical | -      |\n",
    "| `restecg`       | Resting electrocardiographic results      | Feature| Categorical | -      |\n",
    "| `thalach`       | maximum heart rate achieved               | Feature| Integer  | -         |\n",
    "| `exang`         | exercise induced angina                   | Feature| Categorical | -      |\n",
    "| `oldpeak`       | ST depression induced by exercise  relative to rest        | Feature| Float    | - |\n",
    "| `slope`         | Slope of the peak exercise ST segment     | Feature| Categorical | -      |\n",
    "| `ca`            | number of major vessels (0-3) colored by fluoroscopy | Feature | Integer | - |\n",
    "| `thal`          | Thallium stress test                      | Feature| Categorical | -      |\n",
    "| `status`        | diagnosis of heart disease                | Target | Categorical | -      |\n",
    "\n",
    "This data is intended to analyze the presence of heart disease in patients. You will use your machine learning and data science techniques for predictive modelling and risk analysis, particularly in the healthcare sector.\n",
    "\n",
    "## Duration:\n",
    "\n",
    "You have 24 hours from the time you receive this test to complete these exercises. Good luck!\n"
   ]
  },
  {
   "cell_type": "markdown",
   "metadata": {},
   "source": [
    "<a id=\"cont\"></a>\n",
    "\n",
    "## Table of Contents\n",
    "\n",
    "<a href=#packages>i. Importing Packages</a>\n",
    "\n",
    "<a href=#loading>ii. Data Loading</a>\n",
    "\n",
    "<a href=#eda> iii. Exploratory Data Analysis (EDA)\n",
    "\n",
    "<a href=#one>1. Data Consolidation</a>\n",
    "\n",
    "<a href=#two>2. Loading Data</a>\n",
    "\n",
    "<a href=#three>3. Exploratory Data Analysis (EDA)</a>\n",
    "\n",
    "<a href=#four>4. Data Engineering</a>\n",
    "\n",
    "<a href=#five>5. Modeling</a>\n",
    "\n",
    "<a href=#six>6. Model Performance</a>\n",
    "\n",
    "<a href=#seven>7. Model Explanations</a>"
   ]
  },
  {
   "cell_type": "markdown",
   "metadata": {},
   "source": [
    " <a id=\"packages\"></a>\n",
    "## i. Importing Packages\n",
    "<a href=#cont>Back to Table of Contents</a>\n",
    "\n",
    "---\n",
    "    \n",
    "| ⚡ Description: Importing Packages ⚡ |\n",
    "| :--------------------------- |\n",
    "\n",
    "---"
   ]
  },
  {
   "cell_type": "code",
   "execution_count": null,
   "metadata": {},
   "outputs": [],
   "source": []
  },
  {
   "cell_type": "markdown",
   "metadata": {},
   "source": [
    "<a id=\"loading\"></a>\n",
    "## ii. Data Loading\n",
    "<!-- <a class=\"anchor\" id=\"1.1\"></a> -->\n",
    "<a href=#cont>Back to Table of Contents</a>\n",
    "\n",
    "---\n",
    "    \n",
    "| ⚡ Description: Loading the data ⚡ |\n",
    "| :--------------------------- |\n",
    "| In this section you are required to load the data from the `df_train` file into a DataFrame. |\n",
    "\n",
    "---"
   ]
  },
  {
   "cell_type": "code",
   "execution_count": null,
   "metadata": {},
   "outputs": [],
   "source": []
  },
  {
   "cell_type": "markdown",
   "metadata": {},
   "source": [
    "<a id=\"eda\"></a>\n",
    "## iii. Exploratory Data Analysis (EDA)\n",
    "<a class=\"anchor\" id=\"1.1\"></a>\n",
    "<a href=#cont>Back to Table of Contents</a>\n",
    "\n",
    "---\n",
    "    \n",
    "| ⚡ Description: Exploratory data analysis ⚡ |\n",
    "| :--------------------------- |\n",
    "| In this section, I performed an in-depth analysis of all the variables in the DataFrame. |\n",
    "\n",
    "---\n"
   ]
  },
  {
   "cell_type": "code",
   "execution_count": null,
   "metadata": {},
   "outputs": [],
   "source": []
  },
  {
   "cell_type": "markdown",
   "metadata": {},
   "source": [
    "### Dataset Overview\n",
    "\n",
    "The `df_south` DataFrame contains **270 entries** and **16 columns**. The following are the key details regarding the columns:\n",
    "\n",
    "- **Data Types**:\n",
    "  - **Float64**: 5 columns (e.g., `age`, `thalach`, `oldpeak`)\n",
    "  - **Int64**: 4 columns (e.g., `trestbps`, `chol`, `ca`)\n",
    "  - **Object**: 6 columns (e.g., `sex`, `cp`, `fbs`, `slope`, `thal`, `status`)\n",
    "  - **Bool**: 1 column (`exang`)\n",
    "\n",
    "- **Non-Null Counts**:\n",
    "  - The columns `age` and `thalach` have missing values (268 and 267 non-null entries, respectively), while all other columns are fully populated.\n",
    "  - There are two unnamed columns that contain no data.\n",
    "\n",
    "This summary provides a foundational understanding of the data structure, types, and potential areas needing attention, such as missing values in specific columns.\n"
   ]
  },
  {
   "cell_type": "code",
   "execution_count": null,
   "metadata": {},
   "outputs": [],
   "source": []
  },
  {
   "cell_type": "markdown",
   "metadata": {},
   "source": [
    " <a id=\"one\"></a>\n",
    "## 1. Data Consolidation\n",
    "<a href=#cont>Back to Table of Contents</a>\n",
    "\n",
    "---\n",
    "    \n",
    "| ⚡ Description: Importing Packages ⚡ |\n",
    "| :--------------------------- |\n",
    "| o Are any transformations required for specific variables to ensure they are directly comparable between the two datasets? How will these transformations affect the analysis? |\n",
    "| o After consolidating the datasets, what steps will be taken to validate the integrity and accuracy of the combined data? |\n",
    "\n",
    "---![Alt text](image.png)"
   ]
  },
  {
   "cell_type": "code",
   "execution_count": null,
   "metadata": {},
   "outputs": [],
   "source": []
  },
  {
   "cell_type": "markdown",
   "metadata": {},
   "source": [
    "<a id=\"two\"></a>\n",
    "## 2. Data Cleaning\n",
    "<a class=\"anchor\" id=\"1.1\"></a>\n",
    "<a href=#cont>Back to Table of Contents</a>\n",
    "\n",
    "---\n",
    "    \n",
    "| ⚡ Description: Loading the data ⚡ |\n",
    "| :--------------------------- |\n",
    "| o Are there any missing values in the dataset? If so, how do you propose to handle them? |\n",
    "| o How would you deal with any outliers in the dataset? Justify your approach. |\n",
    "<!-- | In this section you are required to load the data from the `df_train` file into a DataFrame. | -->\n",
    "\n",
    "---"
   ]
  },
  {
   "cell_type": "code",
   "execution_count": null,
   "metadata": {},
   "outputs": [],
   "source": []
  },
  {
   "cell_type": "markdown",
   "metadata": {},
   "source": [
    "<a id=\"three\"></a>\n",
    "## 3. Exploratory Data Analysis (EDA)\n",
    "<a class=\"anchor\" id=\"1.1\"></a>\n",
    "<a href=#cont>Back to Table of Contents</a>\n",
    "\n",
    "---\n",
    "    \n",
    "| ⚡ Description: Exploratory data analysis ⚡ |\n",
    "| :--------------------------- |\n",
    "| In this section, you are required to perform an in-depth analysis of all the variables in the DataFrame. |\n",
    "\n",
    "---\n"
   ]
  },
  {
   "cell_type": "code",
   "execution_count": null,
   "metadata": {},
   "outputs": [],
   "source": []
  },
  {
   "cell_type": "markdown",
   "metadata": {},
   "source": [
    "<a id=\"four\"></a>\n",
    "## 4. Data Engineering\n",
    "<a class=\"anchor\" id=\"1.1\"></a>\n",
    "<a href=#cont>Back to Table of Contents</a>\n",
    "\n",
    "---\n",
    "    \n",
    "| ⚡ Description: Data engineering ⚡ |\n",
    "| :--------------------------- |\n",
    "| In this section you are required to: clean the dataset, and possibly create new features - as identified in the EDA phase. |\n",
    "\n",
    "---"
   ]
  },
  {
   "cell_type": "code",
   "execution_count": null,
   "metadata": {},
   "outputs": [],
   "source": []
  },
  {
   "cell_type": "markdown",
   "metadata": {},
   "source": [
    "<a id=\"five\"></a>\n",
    "## 5. Modelling\n",
    "<a class=\"anchor\" id=\"1.1\"></a>\n",
    "<a href=#cont>Back to Table of Contents</a>\n",
    "\n",
    "---\n",
    "    \n",
    "| ⚡ Description: Modelling ⚡ |\n",
    "| :--------------------------- |\n",
    "| In this section, you are required to create one or more regression models that are able to accurately predict the thee hour load shortfall. |\n",
    "\n",
    "---"
   ]
  },
  {
   "cell_type": "code",
   "execution_count": null,
   "metadata": {},
   "outputs": [],
   "source": []
  },
  {
   "cell_type": "markdown",
   "metadata": {},
   "source": [
    "<a id=\"six\"></a>\n",
    "## 6. Model Performance\n",
    "<a class=\"anchor\" id=\"1.1\"></a>\n",
    "<a href=#cont>Back to Table of Contents</a>\n",
    "\n",
    "---\n",
    "    \n",
    "| ⚡ Description: Model performance ⚡ |\n",
    "| :--------------------------- |\n",
    "| In this section you are required to compare the relative performance of the various trained ML models on a holdout dataset and comment on what model is the best and why. |\n",
    "\n",
    "---"
   ]
  },
  {
   "cell_type": "code",
   "execution_count": null,
   "metadata": {},
   "outputs": [],
   "source": []
  },
  {
   "cell_type": "markdown",
   "metadata": {},
   "source": [
    "<a id=\"seven\"></a>\n",
    "## 7. Model Explanations\n",
    "<a class=\"anchor\" id=\"1.1\"></a>\n",
    "<a href=#cont>Back to Table of Contents</a>\n",
    "\n",
    "---\n",
    "    \n",
    "| ⚡ Description: Model explanation ⚡ |\n",
    "| :--------------------------- |\n",
    "| In this section, you are required to discuss how the best performing model works in a simple way so that both technical and non-technical stakeholders can grasp the intuition behind the model's inner workings. |\n",
    "\n",
    "---"
   ]
  },
  {
   "cell_type": "markdown",
   "metadata": {},
   "source": []
  }
 ],
 "metadata": {
  "kernelspec": {
   "display_name": "Python 3 (ipykernel)",
   "language": "python",
   "name": "python3"
  }
 },
 "nbformat": 4,
 "nbformat_minor": 2
}
